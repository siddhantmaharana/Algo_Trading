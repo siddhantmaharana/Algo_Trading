{
 "cells": [
  {
   "cell_type": "markdown",
   "metadata": {},
   "source": [
    "## Momentum Strategy - The trend is your friend"
   ]
  },
  {
   "cell_type": "markdown",
   "metadata": {},
   "source": [
    "Investopedia defines mometum strategy as \n",
    "\n",
    "_\"The strategy in which the traders focus on stocks that are moving significantly in one direction on high volume. Momentum traders may hold their positions for a few minutes, a couple of hours or even the entire length of the trading day, depending on how quickly the stock moves and when it changes direction\"_\n",
    "\n",
    "In this notebook we will test the use of some statistics concepts to figure out the stocks from the NIFTY-50 that have maintained and sustained a parabolic rise, often termed as 'high-flyers'. Then, we would backtest the strategy using historical data for a year and evaluate the strategy in terms of return and number of successfull trades.\n",
    "\n"
   ]
  },
  {
   "cell_type": "markdown",
   "metadata": {},
   "source": [
    "### Get the Data"
   ]
  },
  {
   "cell_type": "markdown",
   "metadata": {},
   "source": [
    "So we begin by fetching the data from Quandl and get our hands dirty. To use the package, we have to install the package and set up an account which gets us and API key which we will use in our code to download the data for the last two years."
   ]
  },
  {
   "cell_type": "code",
   "execution_count": null,
   "metadata": {},
   "outputs": [],
   "source": [
    "python get_data.py"
   ]
  },
  {
   "cell_type": "markdown",
   "metadata": {},
   "source": [
    "So, the above function iterates all the 50 stocks listed in the 'nifty_50.txt' and saves in the 'data' folder.\n",
    "\n",
    "Now let’s start step-by-step and explore the data by checking one of the stocks csv data."
   ]
  },
  {
   "cell_type": "code",
   "execution_count": 2,
   "metadata": {},
   "outputs": [
    {
     "data": {
      "text/html": [
       "<div>\n",
       "<style>\n",
       "    .dataframe thead tr:only-child th {\n",
       "        text-align: right;\n",
       "    }\n",
       "\n",
       "    .dataframe thead th {\n",
       "        text-align: left;\n",
       "    }\n",
       "\n",
       "    .dataframe tbody tr th {\n",
       "        vertical-align: top;\n",
       "    }\n",
       "</style>\n",
       "<table border=\"1\" class=\"dataframe\">\n",
       "  <thead>\n",
       "    <tr style=\"text-align: right;\">\n",
       "      <th></th>\n",
       "      <th>Date</th>\n",
       "      <th>Open</th>\n",
       "      <th>High</th>\n",
       "      <th>Low</th>\n",
       "      <th>Close</th>\n",
       "      <th>Volume</th>\n",
       "      <th>Symbol</th>\n",
       "    </tr>\n",
       "  </thead>\n",
       "  <tbody>\n",
       "    <tr>\n",
       "      <th>0</th>\n",
       "      <td>2016-01-01</td>\n",
       "      <td>1118.75</td>\n",
       "      <td>1125.00</td>\n",
       "      <td>1111.00</td>\n",
       "      <td>1116.45</td>\n",
       "      <td>16523.0</td>\n",
       "      <td>ABB</td>\n",
       "    </tr>\n",
       "    <tr>\n",
       "      <th>1</th>\n",
       "      <td>2016-01-04</td>\n",
       "      <td>1116.00</td>\n",
       "      <td>1125.85</td>\n",
       "      <td>1110.00</td>\n",
       "      <td>1120.15</td>\n",
       "      <td>57148.0</td>\n",
       "      <td>ABB</td>\n",
       "    </tr>\n",
       "    <tr>\n",
       "      <th>2</th>\n",
       "      <td>2016-01-05</td>\n",
       "      <td>1118.75</td>\n",
       "      <td>1135.35</td>\n",
       "      <td>1082.25</td>\n",
       "      <td>1094.55</td>\n",
       "      <td>69794.0</td>\n",
       "      <td>ABB</td>\n",
       "    </tr>\n",
       "    <tr>\n",
       "      <th>3</th>\n",
       "      <td>2016-01-06</td>\n",
       "      <td>1090.30</td>\n",
       "      <td>1104.90</td>\n",
       "      <td>1072.55</td>\n",
       "      <td>1077.60</td>\n",
       "      <td>32663.0</td>\n",
       "      <td>ABB</td>\n",
       "    </tr>\n",
       "    <tr>\n",
       "      <th>4</th>\n",
       "      <td>2016-01-07</td>\n",
       "      <td>1075.00</td>\n",
       "      <td>1079.90</td>\n",
       "      <td>1045.85</td>\n",
       "      <td>1053.45</td>\n",
       "      <td>32611.0</td>\n",
       "      <td>ABB</td>\n",
       "    </tr>\n",
       "  </tbody>\n",
       "</table>\n",
       "</div>"
      ],
      "text/plain": [
       "         Date     Open     High      Low    Close   Volume Symbol\n",
       "0  2016-01-01  1118.75  1125.00  1111.00  1116.45  16523.0    ABB\n",
       "1  2016-01-04  1116.00  1125.85  1110.00  1120.15  57148.0    ABB\n",
       "2  2016-01-05  1118.75  1135.35  1082.25  1094.55  69794.0    ABB\n",
       "3  2016-01-06  1090.30  1104.90  1072.55  1077.60  32663.0    ABB\n",
       "4  2016-01-07  1075.00  1079.90  1045.85  1053.45  32611.0    ABB"
      ]
     },
     "execution_count": 2,
     "metadata": {},
     "output_type": "execute_result"
    }
   ],
   "source": [
    "## Exploring one of the dataset\n",
    "import pandas as pd\n",
    "df = pd.read_csv('data/ABB.csv')\n",
    "df.head()\n"
   ]
  },
  {
   "cell_type": "markdown",
   "metadata": {},
   "source": [
    "### Strategy rules "
   ]
  },
  {
   "cell_type": "markdown",
   "metadata": {},
   "source": [
    "Now that we have got the data ready, lets go head and carry out backtesting of our strategy. If you are wondering what this term means, backtesting is a simulation designed to test the performance of a set of trading and risk management rules on historic data.\n",
    "\n",
    "First, lets lay down the rules for the strategy. For this strategy to work, stocks have to monitored and based on certain conditions, the qualifying stocks are to be shortlisted. We will test all the stocks for these conditions.\n",
    "\n",
    "1. Capture the stock before the end of the day provided the stock has been giving positive returns for the last 3 successive days.\n",
    "2. The returns for the three successive days also have to in an increasing order in terms of magnitude.\n",
    "3. If the gap down(today's open minus the yesterday's low) is less than the standard deviation for the last 90 days.\n",
    "4. The opening price of stock is above the last 20 days moving average.\n",
    "\n",
    "Now that we have a specific set of stocks shortlisted, we will go ahead and place a 'buy' call just before the day close and  an exit call, just before the next day's open.\n"
   ]
  },
  {
   "cell_type": "markdown",
   "metadata": {},
   "source": [
    "### Running a Backtest"
   ]
  },
  {
   "cell_type": "code",
   "execution_count": null,
   "metadata": {},
   "outputs": [],
   "source": [
    "# Running the backtest for momentum with the bid value -- a sample bid value of 10000 is passed here\n",
    "python backtest.py -a 100000"
   ]
  },
  {
   "cell_type": "markdown",
   "metadata": {},
   "source": [
    "_Moment-of-truth!_\n",
    "\n",
    "Let's assume that we outline a budget of 10000 INR to be invested. Will will follow a simple case of taking out the profits/loss for every trade and using the same budget of 10000 INR to trade every time we get oppurtunity.\n",
    "\n",
    "What if there are multiple trade oppurtunities in a single day?\n",
    "Well, we will split the amount accordingly without impacting the budget.\n",
    "\n",
    "Now, running the 'backtest' script , outputs the results in two different csv's ( daily and monthly results). Lets head on to check whether the strategy was able to give out any good trades; and how much profit did we make?\n"
   ]
  },
  {
   "cell_type": "code",
   "execution_count": 3,
   "metadata": {},
   "outputs": [
    {
     "data": {
      "text/html": [
       "<div>\n",
       "<style>\n",
       "    .dataframe thead tr:only-child th {\n",
       "        text-align: right;\n",
       "    }\n",
       "\n",
       "    .dataframe thead th {\n",
       "        text-align: left;\n",
       "    }\n",
       "\n",
       "    .dataframe tbody tr th {\n",
       "        vertical-align: top;\n",
       "    }\n",
       "</style>\n",
       "<table border=\"1\" class=\"dataframe\">\n",
       "  <thead>\n",
       "    <tr style=\"text-align: right;\">\n",
       "      <th></th>\n",
       "      <th>p_l</th>\n",
       "      <th>g_l</th>\n",
       "      <th>right_bids</th>\n",
       "      <th>wrong_bids</th>\n",
       "    </tr>\n",
       "    <tr>\n",
       "      <th>Date</th>\n",
       "      <th></th>\n",
       "      <th></th>\n",
       "      <th></th>\n",
       "      <th></th>\n",
       "    </tr>\n",
       "  </thead>\n",
       "  <tbody>\n",
       "    <tr>\n",
       "      <th>2017-01-31</th>\n",
       "      <td>7437.322682</td>\n",
       "      <td>0.204573</td>\n",
       "      <td>40.0</td>\n",
       "      <td>8.0</td>\n",
       "    </tr>\n",
       "    <tr>\n",
       "      <th>2017-02-28</th>\n",
       "      <td>6603.486418</td>\n",
       "      <td>0.196766</td>\n",
       "      <td>40.0</td>\n",
       "      <td>8.0</td>\n",
       "    </tr>\n",
       "    <tr>\n",
       "      <th>2017-03-31</th>\n",
       "      <td>6555.119994</td>\n",
       "      <td>0.191226</td>\n",
       "      <td>46.0</td>\n",
       "      <td>10.0</td>\n",
       "    </tr>\n",
       "    <tr>\n",
       "      <th>2017-04-30</th>\n",
       "      <td>3095.960421</td>\n",
       "      <td>0.117895</td>\n",
       "      <td>32.0</td>\n",
       "      <td>11.0</td>\n",
       "    </tr>\n",
       "    <tr>\n",
       "      <th>2017-05-31</th>\n",
       "      <td>3108.105608</td>\n",
       "      <td>0.107459</td>\n",
       "      <td>23.0</td>\n",
       "      <td>11.0</td>\n",
       "    </tr>\n",
       "  </tbody>\n",
       "</table>\n",
       "</div>"
      ],
      "text/plain": [
       "                    p_l       g_l  right_bids  wrong_bids\n",
       "Date                                                     \n",
       "2017-01-31  7437.322682  0.204573        40.0         8.0\n",
       "2017-02-28  6603.486418  0.196766        40.0         8.0\n",
       "2017-03-31  6555.119994  0.191226        46.0        10.0\n",
       "2017-04-30  3095.960421  0.117895        32.0        11.0\n",
       "2017-05-31  3108.105608  0.107459        23.0        11.0"
      ]
     },
     "execution_count": 3,
     "metadata": {},
     "output_type": "execute_result"
    }
   ],
   "source": [
    "# importing libraries\n",
    "import pandas as pd\n",
    "\n",
    "\n",
    "# Checking the data \n",
    "m_df = pd.read_csv('momentum_monthly.csv')\n",
    "m_df['Date'] = pd.to_datetime(m_df['Date'])\n",
    "m_df = m_df.set_index(m_df.Date)\n",
    "m_df = m_df.drop(['Date'],axis=1)\n",
    "m_df.head()\n"
   ]
  },
  {
   "cell_type": "markdown",
   "metadata": {},
   "source": [
    "#### Monthly gains "
   ]
  },
  {
   "cell_type": "code",
   "execution_count": 68,
   "metadata": {},
   "outputs": [
    {
     "data": {
      "image/png": "[encoded data removed]",
      "text/plain": [
       "<matplotlib.figure.Figure at 0x7fcdf1043510>"
      ]
     },
     "metadata": {},
     "output_type": "display_data"
    }
   ],
   "source": [
    "# Plotting the gains per month\n",
    "# Matplotlib for additional customization\n",
    "from matplotlib import pyplot as plt\n",
    "%matplotlib inline\n",
    "import numpy as np\n",
    "fig=plt.figure(figsize=(14, 4), dpi= 80, facecolor='w', edgecolor='k')\n",
    "\n",
    "ax = fig.add_subplot(111)\n",
    "x = m_df.index\n",
    "y = (m_df['g_l']* 100).round()\n",
    "plt.plot(x,y)\n",
    "for i,j in zip(x,y):\n",
    "    ax.annotate('%s' %j, xy=(i,j), xytext=(30,0), textcoords='offset points')\n",
    "\n",
    "plt.ylabel('Return %')\n",
    "plt.title('Return per month')\n",
    "plt.grid()\n",
    "plt.show()"
   ]
  },
  {
   "cell_type": "markdown",
   "metadata": {},
   "source": [
    "Seems that our strategy really stood the test of the time. Monthly returns averaging around 12%. That's exciting.\n"
   ]
  },
  {
   "cell_type": "markdown",
   "metadata": {},
   "source": [
    "#### Tha good and the bad trades"
   ]
  },
  {
   "cell_type": "code",
   "execution_count": 77,
   "metadata": {
    "scrolled": true
   },
   "outputs": [
    {
     "data": {
      "image/png": "[encoded data removed]",
      "text/plain": [
       "<matplotlib.figure.Figure at 0x7fcdf0ed5950>"
      ]
     },
     "metadata": {},
     "output_type": "display_data"
    }
   ],
   "source": [
    "width = 15\n",
    "height = 4\n",
    "plt.figure(figsize=(width, height))\n",
    "x= m_df.index\n",
    "y1= m_df['right_bids']\n",
    "p1 = plt.bar(x,y1,width =10)\n",
    "y2 = m_df['wrong_bids']\n",
    "p2 = plt.bar(x,y2,width=10)\n",
    "plt.ylabel('# Bids')\n",
    "plt.title('Good Vs Bad Bids')\n",
    "\n",
    "plt.legend((p1[0], p2[0]), ('Correct Bids', 'Incorrect Bids'))\n",
    "\n",
    "plt.show()\n"
   ]
  },
  {
   "cell_type": "markdown",
   "metadata": {},
   "source": [
    "The above graph shows the ratio of the number of correct versus the incorrect bids that our strategy could predict. Seems like we give a fairly good job here as well. 358 correct trades vs 116 incorrect bids. That ultimately fetched us a good return indeed.\n",
    "\n"
   ]
  }
 ],
 "metadata": {
  "kernelspec": {
   "display_name": "Python 2",
   "language": "python",
   "name": "python2"
  },
  "language_info": {
   "codemirror_mode": {
    "name": "ipython",
    "version": 2
   },
   "file_extension": ".py",
   "mimetype": "text/x-python",
   "name": "python",
   "nbconvert_exporter": "python",
   "pygments_lexer": "ipython2",
   "version": "2.7.12"
  }
 },
 "nbformat": 4,
 "nbformat_minor": 2
}
